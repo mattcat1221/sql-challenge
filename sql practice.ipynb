{
 "cells": [
  {
   "cell_type": "code",
   "execution_count": 1,
   "metadata": {},
   "outputs": [
    {
     "ename": "SyntaxError",
     "evalue": "invalid syntax (1088690115.py, line 1)",
     "output_type": "error",
     "traceback": [
      "\u001b[0;36m  Cell \u001b[0;32mIn[1], line 1\u001b[0;36m\u001b[0m\n\u001b[0;31m    -- Create Departments table\u001b[0m\n\u001b[0m              ^\u001b[0m\n\u001b[0;31mSyntaxError\u001b[0m\u001b[0;31m:\u001b[0m invalid syntax\n"
     ]
    }
   ],
   "source": [
    "-- Create Departments table\n",
    "CREATE TABLE Departments (\n",
    "    dept_no CHAR(4) NOT NULL,\n",
    "    dept_name VARCHAR(50) NOT NULL,\n",
    "    CONSTRAINT pk_Departments PRIMARY KEY (dept_no)\n",
    ");\n",
    "\n",
    "-- Create Dept_emp table\n",
    "CREATE TABLE Dept_emp (\n",
    "    emp_no INT NOT NULL,\n",
    "    dept_no CHAR(4) NOT NULL,\n",
    "    CONSTRAINT pk_Dept_emp PRIMARY KEY (emp_no, dept_no)\n",
    ");\n",
    "\n",
    "-- Create Dept_manager table\n",
    "CREATE TABLE Dept_manager (\n",
    "    dept_no CHAR(4) NOT NULL,\n",
    "    emp_no INT NOT NULL,\n",
    "    CONSTRAINT pk_Dept_manager PRIMARY KEY (dept_no, emp_no)\n",
    ");\n",
    "\n",
    "-- Create Employees table\n",
    "CREATE TABLE Employees (\n",
    "    emp_no INT NOT NULL,\n",
    "    emp_title VARCHAR(50) NOT NULL,\n",
    "    birth_date DATE NOT NULL,\n",
    "    first_name VARCHAR(50) NOT NULL,\n",
    "    last_name VARCHAR(50) NOT NULL,\n",
    "    sex CHAR(1) NOT NULL,\n",
    "    hire_date DATE NOT NULL,\n",
    "    CONSTRAINT pk_Employees PRIMARY KEY (emp_no)\n",
    ");\n",
    "\n",
    "-- Create Salaries table\n",
    "CREATE TABLE Salaries (\n",
    "    emp_no INT NOT NULL,\n",
    "    salary INT NOT NULL,\n",
    "    CONSTRAINT pk_Salaries PRIMARY KEY (emp_no)\n",
    ");\n",
    "\n",
    "-- Create Titles table\n",
    "CREATE TABLE Titles (\n",
    "    title_id VARCHAR(50) NOT NULL,\n",
    "    title VARCHAR(50) NOT NULL,\n",
    "    CONSTRAINT pk_Titles PRIMARY KEY (title_id)\n",
    ");\n",
    "\n",
    "-- Add foreign key constraints to Dept_emp table\n",
    "ALTER TABLE Dept_emp \n",
    "ADD CONSTRAINT fk_Dept_emp_emp_no FOREIGN KEY (emp_no)\n",
    "REFERENCES Employees (emp_no);\n",
    "\n",
    "ALTER TABLE Dept_emp \n",
    "ADD CONSTRAINT fk_Dept_emp_dept_no FOREIGN KEY (dept_no)\n",
    "REFERENCES Departments (dept_no);\n",
    "\n"
   ]
  },
  {
   "cell_type": "code",
   "execution_count": null,
   "metadata": {},
   "outputs": [],
   "source": []
  }
 ],
 "metadata": {
  "kernelspec": {
   "display_name": "base",
   "language": "python",
   "name": "python3"
  },
  "language_info": {
   "codemirror_mode": {
    "name": "ipython",
    "version": 3
   },
   "file_extension": ".py",
   "mimetype": "text/x-python",
   "name": "python",
   "nbconvert_exporter": "python",
   "pygments_lexer": "ipython3",
   "version": "3.11.7"
  }
 },
 "nbformat": 4,
 "nbformat_minor": 2
}
